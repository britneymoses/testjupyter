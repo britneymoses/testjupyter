{
 "cells": [
  {
   "cell_type": "markdown",
   "id": "46d1e7eb-d849-4b5c-a780-8a49f94dcc38",
   "metadata": {
    "tags": []
   },
   "source": [
    "# Data Science Tools"
   ]
  },
  {
   "cell_type": "markdown",
   "id": "996b212d-92f1-40ce-b3d0-357dd951744b",
   "metadata": {},
   "source": [
    "In this notebook, Data Science Tools and Ecosystem are summarized."
   ]
  },
  {
   "cell_type": "markdown",
   "id": "48ddb998-ec55-4bc6-a488-ea5cd72001c6",
   "metadata": {
    "tags": []
   },
   "source": [
    "**Objectives:**\n",
    "\n",
    "    - Popular Languages in Data Science\n",
    "    - Commonly Used Libraries in Data Science\n",
    "    - Data Science Tools\n",
    "    - Arithmetic Expression Example"
   ]
  },
  {
   "cell_type": "markdown",
   "id": "afdf1c29-29cc-4648-b612-eceddda2ed76",
   "metadata": {},
   "source": [
    "Some of the popular languages that Data Scientists use are:\n",
    "    \n",
    "    1. Python\n",
    "    2. R\n",
    "    3. SQL"
   ]
  },
  {
   "cell_type": "markdown",
   "id": "44ce5a41-8874-4cbd-aedf-0edc3d063809",
   "metadata": {},
   "source": [
    "Some of the commonly used libraries used by Data Scientists include:\n",
    "    \n",
    "    1. NumPy\n",
    "    2. Keras\n",
    "    3. Panda\n",
    "    4. PyTorch"
   ]
  },
  {
   "cell_type": "markdown",
   "id": "57ab0b11-54de-41cd-8ead-9861863d6fe0",
   "metadata": {},
   "source": [
    "| Data Science Tools |\n",
    "| --------|\n",
    "|Model Deployment|\n",
    "|Data Visualization|\n",
    "|Data Management|"
   ]
  },
  {
   "cell_type": "markdown",
   "id": "d8e14ed9-de52-46e8-87d0-7875380a62b0",
   "metadata": {},
   "source": [
    "### Below are a few examples of evaluating arithmetic expressions in Python"
   ]
  },
  {
   "cell_type": "code",
   "execution_count": 3,
   "id": "7b3edb06-bccd-4dfa-ab78-a8e01453cc13",
   "metadata": {
    "tags": []
   },
   "outputs": [],
   "source": [
    "#This a simple arithmetic expression to mutiply then add integers"
   ]
  },
  {
   "cell_type": "code",
   "execution_count": 2,
   "id": "7f3f63cf-cb57-43ed-8b76-d319b65aac46",
   "metadata": {
    "tags": []
   },
   "outputs": [
    {
     "data": {
      "text/plain": [
       "17"
      ]
     },
     "execution_count": 2,
     "metadata": {},
     "output_type": "execute_result"
    }
   ],
   "source": [
    "(3*4)+5"
   ]
  },
  {
   "cell_type": "code",
   "execution_count": 8,
   "id": "2e79df9e-51cc-4994-bfdf-1fde80d58470",
   "metadata": {
    "tags": []
   },
   "outputs": [
    {
     "name": "stdin",
     "output_type": "stream",
     "text": [
      "Enter time in minutes 200\n"
     ]
    },
    {
     "name": "stdout",
     "output_type": "stream",
     "text": [
      "Hours= 3\n",
      "Minutes= 20\n"
     ]
    }
   ],
   "source": [
    "#This will convert 200 minutes to hours by diving by 60\n",
    "\n",
    "min=int(input(\"Enter time in minutes\"))\n",
    "h=min//60\n",
    "m=min%60\n",
    "print(\"Hours=\",h)\n",
    "print(\"Minutes=\",m)"
   ]
  },
  {
   "cell_type": "markdown",
   "id": "ef327f8f-f164-4cf5-9f2c-8eb3376c216a",
   "metadata": {
    "tags": []
   },
   "source": [
    "## Author\n",
    "Britney Bell-Moses"
   ]
  },
  {
   "cell_type": "code",
   "execution_count": null,
   "id": "0e8b6b66-3158-4f15-9460-98eed544dfa8",
   "metadata": {},
   "outputs": [],
   "source": []
  }
 ],
 "metadata": {
  "kernelspec": {
   "display_name": "Python",
   "language": "python",
   "name": "conda-env-python-py"
  },
  "language_info": {
   "codemirror_mode": {
    "name": "ipython",
    "version": 3
   },
   "file_extension": ".py",
   "mimetype": "text/x-python",
   "name": "python",
   "nbconvert_exporter": "python",
   "pygments_lexer": "ipython3",
   "version": "3.7.12"
  }
 },
 "nbformat": 4,
 "nbformat_minor": 5
}
